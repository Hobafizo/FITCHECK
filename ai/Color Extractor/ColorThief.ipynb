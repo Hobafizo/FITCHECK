{
 "cells": [
  {
   "cell_type": "code",
   "execution_count": 6,
   "metadata": {},
   "outputs": [],
   "source": [
    "import cv2\n",
    "import numpy as np\n",
    "from sklearn.cluster import KMeans\n",
    "import pandas as pd\n",
    "from colorthief import ColorThief"
   ]
  },
  {
   "cell_type": "markdown",
   "metadata": {},
   "source": [
    "### Color Names Mapping"
   ]
  },
  {
   "cell_type": "code",
   "execution_count": 9,
   "metadata": {},
   "outputs": [],
   "source": [
    "bdf= pd.read_csv(\"Datasets/BigColorData.csv\")\n",
    "sdf= pd.read_csv(\"Datasets/fashion-colors.csv\")"
   ]
  },
  {
   "cell_type": "code",
   "execution_count": 10,
   "metadata": {},
   "outputs": [],
   "source": [
    "def big_find_closest_color(r, g, b):\n",
    "    distances = np.sqrt((bdf[\"redDecimal\"] - r) ** 2 +\n",
    "                        (bdf[\"greenDecimal\"] - g) ** 2 +\n",
    "                        (bdf[\"blueDecimal\"] - b) ** 2)\n",
    "    \n",
    "    min_index = distances.idxmin()\n",
    "    \n",
    "    return bdf.loc[min_index, \"name\"]"
   ]
  },
  {
   "cell_type": "code",
   "execution_count": 11,
   "metadata": {},
   "outputs": [],
   "source": [
    "def small_find_closest_color(r, g, b):\n",
    "    distances = np.sqrt((sdf[\"R\"] - r) ** 2 +\n",
    "                        (sdf[\"G\"] - g) ** 2 +\n",
    "                        (sdf[\"B\"] - b) ** 2)\n",
    "    \n",
    "    min_index = distances.idxmin()\n",
    "    \n",
    "    return sdf.loc[min_index, \"Color Name\"]"
   ]
  },
  {
   "cell_type": "markdown",
   "metadata": {},
   "source": [
    "### Color Determination"
   ]
  },
  {
   "cell_type": "code",
   "execution_count": 12,
   "metadata": {},
   "outputs": [],
   "source": [
    "def ignore_alpha(image_path):\n",
    "    \"\"\"Loads a PNG image and extracts only the non-transparent pixels.\"\"\"\n",
    "    image = cv2.imread(image_path, cv2.IMREAD_UNCHANGED)\n",
    "\n",
    "    if image.shape[2] == 4:  # Check if it has an alpha channel\n",
    "        rgb_image = image[:, :, :3]  # Extract RGB channels\n",
    "        alpha_channel = image[:, :, 3]  # Extract alpha (transparency)\n",
    "        clothing_pixels = rgb_image[alpha_channel > 0]  # Keep only opaque clothing pixels\n",
    "        return clothing_pixels\n",
    "    else:\n",
    "        raise ValueError(\"Image does not have an alpha channel. Ensure it is a transparent PNG.\")"
   ]
  },
  {
   "cell_type": "code",
   "execution_count": 14,
   "metadata": {},
   "outputs": [],
   "source": [
    "def dominant_colors_kmeans(image_pixels, k=3):\n",
    "    \"\"\"Finds the number of dominant colors using K-Means clustering.\"\"\"\n",
    "    kmeans = KMeans(n_clusters=k, random_state=42)\n",
    "    kmeans.fit(image_pixels)\n",
    "    counts = np.bincount(kmeans.labels_)\n",
    "    unique_colors = len(set(map(tuple, np.round(kmeans.cluster_centers_))))  # Count unique cluster centers\n",
    "    dominant=kmeans.cluster_centers_[np.argmax(counts)]\n",
    "    return unique_colors, tuple(int(c) for c in dominant)"
   ]
  },
  {
   "cell_type": "code",
   "execution_count": 15,
   "metadata": {},
   "outputs": [],
   "source": [
    "def classify_clothing_type(image_path):\n",
    "    \"\"\"Classifies clothing as solid-colored, gradient, or patterned.\"\"\"\n",
    "    clothing_pixels = ignore_alpha(image_path)  # Load and extract clothing pixels\n",
    "\n",
    "    unique ,num_dominant_colors = dominant_colors_kmeans(clothing_pixels, k=10)\n",
    "    \n",
    "    print(unique)\n",
    "    return num_dominant_colors"
   ]
  },
  {
   "cell_type": "code",
   "execution_count": 16,
   "metadata": {},
   "outputs": [],
   "source": [
    "def byColorThief(image):\n",
    "    ct = ColorThief(image)\n",
    "    dominant = ct.get_color(quality=1)\n",
    "\n",
    "    palette =ct.get_palette(color_count=5)\n",
    "\n",
    "    return dominant"
   ]
  },
  {
   "cell_type": "markdown",
   "metadata": {},
   "source": [
    "# Main"
   ]
  },
  {
   "cell_type": "code",
   "execution_count": 19,
   "metadata": {},
   "outputs": [
    {
     "name": "stdout",
     "output_type": "stream",
     "text": [
      "(23, 23, 24)\n",
      "Black\n"
     ]
    }
   ],
   "source": [
    "image = \"Inputs/blacknwhite.png\"\n",
    "#result = classify_clothing_type(image)\n",
    "result = byColorThief(image)\n",
    "\n",
    "print(result)\n",
    "\n",
    "color=small_find_closest_color(*result)\n",
    "print(color)\n",
    "\n",
    "#color=big_find_closest_color(*result)\n",
    "#print(color)"
   ]
  }
 ],
 "metadata": {
  "kernelspec": {
   "display_name": "Python 3",
   "language": "python",
   "name": "python3"
  },
  "language_info": {
   "codemirror_mode": {
    "name": "ipython",
    "version": 3
   },
   "file_extension": ".py",
   "mimetype": "text/x-python",
   "name": "python",
   "nbconvert_exporter": "python",
   "pygments_lexer": "ipython3",
   "version": "3.13.2"
  }
 },
 "nbformat": 4,
 "nbformat_minor": 2
}
