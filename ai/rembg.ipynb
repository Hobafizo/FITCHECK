{
 "cells": [
  {
   "cell_type": "code",
   "execution_count": 2,
   "metadata": {},
   "outputs": [],
   "source": [
    "from rembg import remove\n",
    "from PIL import Image"
   ]
  },
  {
   "cell_type": "code",
   "execution_count": 6,
   "metadata": {},
   "outputs": [
    {
     "name": "stderr",
     "output_type": "stream",
     "text": [
      "<>:1: SyntaxWarning: invalid escape sequence '\\i'\n",
      "<>:1: SyntaxWarning: invalid escape sequence '\\i'\n",
      "C:\\Users\\Ahmed\\AppData\\Local\\Temp\\ipykernel_4668\\4054543715.py:1: SyntaxWarning: invalid escape sequence '\\i'\n",
      "  input_path = \"wardrobe\\image0.jpg\"\n"
     ]
    }
   ],
   "source": [
    "input_path = \"wardrobe\\image0.jpg\"\n",
    "output_path = \"output.png\"\n",
    "\n",
    "input_image = Image.open(input_path)\n",
    "output_image = remove(input_image)\n",
    "output_image.save(output_path)\n"
   ]
  }
 ],
 "metadata": {
  "kernelspec": {
   "display_name": "Python 3",
   "language": "python",
   "name": "python3"
  },
  "language_info": {
   "codemirror_mode": {
    "name": "ipython",
    "version": 3
   },
   "file_extension": ".py",
   "mimetype": "text/x-python",
   "name": "python",
   "nbconvert_exporter": "python",
   "pygments_lexer": "ipython3",
   "version": "3.12.5"
  }
 },
 "nbformat": 4,
 "nbformat_minor": 2
}
